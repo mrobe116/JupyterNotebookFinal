{
  "metadata": {
    "language_info": {
      "codemirror_mode": {
        "name": "python",
        "version": 3
      },
      "file_extension": ".py",
      "mimetype": "text/x-python",
      "name": "python",
      "nbconvert_exporter": "python",
      "pygments_lexer": "ipython3",
      "version": "3.8"
    },
    "kernelspec": {
      "name": "python",
      "display_name": "Pyolite",
      "language": "python"
    }
  },
  "nbformat_minor": 4,
  "nbformat": 4,
  "cells": [
    {
      "cell_type": "markdown",
      "source": "# My Jupyter Notebook on IBM Watson Studio",
      "metadata": {
        "tags": []
      }
    },
    {
      "cell_type": "markdown",
      "source": "**Mitchell Roberts**\n__Data Analyst__",
      "metadata": {}
    },
    {
      "cell_type": "markdown",
      "source": "_I am interested in data science because I like being able to tell stories with data. I think articulating actionable insights based on data will open up a wealth of possibilites._",
      "metadata": {}
    },
    {
      "cell_type": "markdown",
      "source": "### The code in the cell below will be simple arithmatic. It will add 2 plus 2.",
      "metadata": {
        "tags": []
      }
    },
    {
      "cell_type": "code",
      "source": "2 + 2",
      "metadata": {
        "trusted": true
      },
      "execution_count": 1,
      "outputs": [
        {
          "execution_count": 1,
          "output_type": "execute_result",
          "data": {
            "text/plain": "4"
          },
          "metadata": {}
        }
      ]
    },
    {
      "cell_type": "markdown",
      "source": "- First Name\n- Middle Name\n- Last Name\n\n[YouTube](https://youtube.com)\n\n![jupyterlogo.png](attachment:jupyterlogo.png)",
      "metadata": {}
    }
  ]
}